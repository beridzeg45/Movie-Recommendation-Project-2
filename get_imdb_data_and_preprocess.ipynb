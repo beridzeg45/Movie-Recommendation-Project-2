{
 "cells": [
  {
   "cell_type": "code",
   "execution_count": 20,
   "metadata": {},
   "outputs": [],
   "source": [
    "import pandas as pd\n",
    "import kaggle\n",
    "import pickle\n",
    "\n",
    "import os\n",
    "path=r\"C:\\Users\\berid\\python\\yts mx project\""
   ]
  },
  {
   "cell_type": "code",
   "execution_count": 5,
   "metadata": {},
   "outputs": [
    {
     "name": "stdout",
     "output_type": "stream",
     "text": [
      "Dataset URL: https://www.kaggle.com/datasets/beridzeg45/all-movies-on-imdb\n",
      "Downloading all-movies-on-imdb.zip to C:\\Users\\berid\\python\\yts mx project\\scraped_data\n"
     ]
    },
    {
     "name": "stderr",
     "output_type": "stream",
     "text": [
      "100%|██████████| 28.0M/28.0M [00:05<00:00, 5.08MB/s]\n"
     ]
    },
    {
     "name": "stdout",
     "output_type": "stream",
     "text": [
      "\n"
     ]
    }
   ],
   "source": [
    "kaggle.api.dataset_download_files('beridzeg45/all-movies-on-imdb',path=os.path.join(path,'scraped_data'),unzip=True,quiet=False)"
   ]
  },
  {
   "cell_type": "code",
   "execution_count": 6,
   "metadata": {},
   "outputs": [],
   "source": [
    "df=pd.read_csv(os.path.join(path,'scraped_data','movies.csv'))"
   ]
  },
  {
   "cell_type": "code",
   "execution_count": 12,
   "metadata": {},
   "outputs": [
    {
     "data": {
      "text/html": [
       "<div>\n",
       "<style scoped>\n",
       "    .dataframe tbody tr th:only-of-type {\n",
       "        vertical-align: middle;\n",
       "    }\n",
       "\n",
       "    .dataframe tbody tr th {\n",
       "        vertical-align: top;\n",
       "    }\n",
       "\n",
       "    .dataframe thead th {\n",
       "        text-align: right;\n",
       "    }\n",
       "</style>\n",
       "<table border=\"1\" class=\"dataframe\">\n",
       "  <thead>\n",
       "    <tr style=\"text-align: right;\">\n",
       "      <th></th>\n",
       "      <th>Movie URL</th>\n",
       "      <th>Title</th>\n",
       "      <th>Poster</th>\n",
       "      <th>Release Year</th>\n",
       "      <th>Length in Min</th>\n",
       "      <th>IMDB Rating</th>\n",
       "      <th>Rating Count</th>\n",
       "      <th>Plot</th>\n",
       "      <th>Directors</th>\n",
       "      <th>Writers</th>\n",
       "      <th>Stars</th>\n",
       "      <th>Genres</th>\n",
       "    </tr>\n",
       "  </thead>\n",
       "  <tbody>\n",
       "    <tr>\n",
       "      <th>88296</th>\n",
       "      <td>https://www.imdb.com/title/tt0920473/?ref_=sr_...</td>\n",
       "      <td>Un baiser s'il vous plaît</td>\n",
       "      <td>https://m.media-amazon.com/images/M/MV5BMTY0OD...</td>\n",
       "      <td>2007.0</td>\n",
       "      <td>96.0</td>\n",
       "      <td>6.7</td>\n",
       "      <td>2700.0</td>\n",
       "      <td>When Gabriel and Emilie meet totally by chance...</td>\n",
       "      <td>Emmanuel Mouret</td>\n",
       "      <td>Emmanuel Mouret|</td>\n",
       "      <td>Julie Gayet|Michaël Cohen|Virginie Ledoyen</td>\n",
       "      <td>Comedy|Romance</td>\n",
       "    </tr>\n",
       "  </tbody>\n",
       "</table>\n",
       "</div>"
      ],
      "text/plain": [
       "                                               Movie URL  \\\n",
       "88296  https://www.imdb.com/title/tt0920473/?ref_=sr_...   \n",
       "\n",
       "                           Title  \\\n",
       "88296  Un baiser s'il vous plaît   \n",
       "\n",
       "                                                  Poster  Release Year  \\\n",
       "88296  https://m.media-amazon.com/images/M/MV5BMTY0OD...        2007.0   \n",
       "\n",
       "       Length in Min  IMDB Rating  Rating Count  \\\n",
       "88296           96.0          6.7        2700.0   \n",
       "\n",
       "                                                    Plot        Directors  \\\n",
       "88296  When Gabriel and Emilie meet totally by chance...  Emmanuel Mouret   \n",
       "\n",
       "                Writers                                       Stars  \\\n",
       "88296  Emmanuel Mouret|  Julie Gayet|Michaël Cohen|Virginie Ledoyen   \n",
       "\n",
       "               Genres  \n",
       "88296  Comedy|Romance  "
      ]
     },
     "execution_count": 12,
     "metadata": {},
     "output_type": "execute_result"
    }
   ],
   "source": [
    "df.sample()"
   ]
  },
  {
   "cell_type": "code",
   "execution_count": 13,
   "metadata": {},
   "outputs": [],
   "source": [
    "df['Movie URL']=df['Movie URL'].str.split('?').str[0]"
   ]
  },
  {
   "cell_type": "code",
   "execution_count": 28,
   "metadata": {},
   "outputs": [],
   "source": [
    "usefull_movie_urls=pd.read_csv(os.path.join(path,'scraped_data','cleaned_yts_movies_df.csv'))['IMDB_LINK'].unique()\n",
    "\n",
    "df=df[df['Movie URL'].isin(usefull_movie_urls)]"
   ]
  },
  {
   "cell_type": "markdown",
   "metadata": {},
   "source": [
    "### Bigrams"
   ]
  },
  {
   "cell_type": "code",
   "execution_count": 30,
   "metadata": {},
   "outputs": [],
   "source": [
    "import nltk\n",
    "from nltk.util import ngrams\n",
    "from collections import Counter\n",
    "import contractions\n",
    "\n",
    "from nltk.sentiment import SentimentIntensityAnalyzer\n",
    "sia=SentimentIntensityAnalyzer()\n",
    "\n",
    "from nltk.stem import WordNetLemmatizer\n",
    "lemmatizer=WordNetLemmatizer()\n",
    "\n",
    "from nltk.corpus import stopwords\n",
    "stopwords=stopwords.words('english')\n",
    "stopwords_extended = stopwords+['a', 'the', 'but', 'and', 's', '.', ',', \"'s\", 'i', 'in', 'to',':',';',\"'\",'(',')','–']\n"
   ]
  },
  {
   "cell_type": "code",
   "execution_count": 33,
   "metadata": {},
   "outputs": [
    {
     "name": "stderr",
     "output_type": "stream",
     "text": [
      "C:\\Users\\berid\\AppData\\Local\\Temp\\ipykernel_11632\\508433305.py:14: SettingWithCopyWarning: \n",
      "A value is trying to be set on a copy of a slice from a DataFrame.\n",
      "Try using .loc[row_indexer,col_indexer] = value instead\n",
      "\n",
      "See the caveats in the documentation: https://pandas.pydata.org/pandas-docs/stable/user_guide/indexing.html#returning-a-view-versus-a-copy\n",
      "  df['BIGRAMS']=df['Plot'].apply(lambda plot:get_bigrams(plot))\n"
     ]
    }
   ],
   "source": [
    "def get_bigrams(text):\n",
    "    try:\n",
    "        text = contractions.fix(text)\n",
    "        plot_tokenized = nltk.word_tokenize(text)\n",
    "        tokens_lowered = [t.lower().strip() for t in plot_tokenized]\n",
    "        removed_stopwords = [t for t in tokens_lowered if t not in stopwords_extended]\n",
    "        return list(ngrams(removed_stopwords, 2))\n",
    "    except:\n",
    "        return 'No Plot'\n",
    "\n",
    "# Extract bigrams for all plots and count them\n",
    "all_bigrams = []\n",
    "df['Plot'].apply(lambda plot: all_bigrams.extend(get_bigrams(plot)))\n",
    "df['BIGRAMS']=df['Plot'].apply(lambda plot:get_bigrams(plot))\n",
    "\n",
    "# Count the most common bigrams\n",
    "bigram_counts = Counter(all_bigrams)\n",
    "most_common_bigrams = bigram_counts.most_common(10000)\n",
    "most_common_bigrams=[i[0] for i in most_common_bigrams]"
   ]
  },
  {
   "cell_type": "code",
   "execution_count": 34,
   "metadata": {},
   "outputs": [
    {
     "name": "stdout",
     "output_type": "stream",
     "text": [
      "9581/9581\r"
     ]
    }
   ],
   "source": [
    "bigrams_series=[]\n",
    "for i,bigrams_list in enumerate(df['BIGRAMS'],start=1):\n",
    "    new_bigrams_list=[]\n",
    "    for bigram in bigrams_list:\n",
    "        if bigram in most_common_bigrams:\n",
    "            new_bigrams_list.append(bigram)\n",
    "    bigrams_series.append(new_bigrams_list)\n",
    "    \n",
    "    print(f'{i}/{len(df['BIGRAMS'])}',end='\\r')"
   ]
  },
  {
   "cell_type": "code",
   "execution_count": 35,
   "metadata": {},
   "outputs": [
    {
     "name": "stderr",
     "output_type": "stream",
     "text": [
      "C:\\Users\\berid\\AppData\\Local\\Temp\\ipykernel_11632\\3023807138.py:1: SettingWithCopyWarning: \n",
      "A value is trying to be set on a copy of a slice from a DataFrame.\n",
      "Try using .loc[row_indexer,col_indexer] = value instead\n",
      "\n",
      "See the caveats in the documentation: https://pandas.pydata.org/pandas-docs/stable/user_guide/indexing.html#returning-a-view-versus-a-copy\n",
      "  df['BIGRAMS']=bigrams_series\n"
     ]
    }
   ],
   "source": [
    "df['BIGRAMS']=bigrams_series"
   ]
  },
  {
   "cell_type": "code",
   "execution_count": 36,
   "metadata": {},
   "outputs": [
    {
     "name": "stderr",
     "output_type": "stream",
     "text": [
      "C:\\Users\\berid\\AppData\\Local\\Temp\\ipykernel_11632\\4025775031.py:12: SettingWithCopyWarning: \n",
      "A value is trying to be set on a copy of a slice from a DataFrame.\n",
      "Try using .loc[row_indexer,col_indexer] = value instead\n",
      "\n",
      "See the caveats in the documentation: https://pandas.pydata.org/pandas-docs/stable/user_guide/indexing.html#returning-a-view-versus-a-copy\n",
      "  df['ALL_TAGS']=bigram_texts_series\n"
     ]
    }
   ],
   "source": [
    "bigram_texts_series=[]\n",
    "\n",
    "for i,bigrams_list in enumerate(df['BIGRAMS'],start=1):\n",
    "    bigram_texts_list=[]\n",
    "    for bigram in bigrams_list:\n",
    "        bigram_text=' '.join([w for w in bigram])\n",
    "        bigram_texts_list.append(bigram_text)\n",
    "    \n",
    "    bigram_texts_list='|'.join(i for i in bigram_texts_list)\n",
    "    bigram_texts_series.append(bigram_texts_list)\n",
    "\n",
    "df['ALL_TAGS']=bigram_texts_series\n",
    "df=df.drop(columns='BIGRAMS')"
   ]
  },
  {
   "cell_type": "code",
   "execution_count": 37,
   "metadata": {},
   "outputs": [],
   "source": [
    "df=df[['Movie URL', 'ALL_TAGS']]"
   ]
  },
  {
   "cell_type": "code",
   "execution_count": 38,
   "metadata": {},
   "outputs": [],
   "source": [
    "df.to_csv(os.path.join(path,'scraped_data','cleaned_imdb_movies_df.csv'),index=False)"
   ]
  },
  {
   "cell_type": "code",
   "execution_count": 40,
   "metadata": {},
   "outputs": [],
   "source": [
    "try:\n",
    "    os.remove(os.path.join(path,'scraped_data','movies.csv'))\n",
    "except:\n",
    "    print('No Movies.csv')"
   ]
  },
  {
   "cell_type": "code",
   "execution_count": null,
   "metadata": {},
   "outputs": [],
   "source": []
  }
 ],
 "metadata": {
  "kernelspec": {
   "display_name": "Python 3",
   "language": "python",
   "name": "python3"
  },
  "language_info": {
   "codemirror_mode": {
    "name": "ipython",
    "version": 3
   },
   "file_extension": ".py",
   "mimetype": "text/x-python",
   "name": "python",
   "nbconvert_exporter": "python",
   "pygments_lexer": "ipython3",
   "version": "3.12.7"
  }
 },
 "nbformat": 4,
 "nbformat_minor": 2
}
